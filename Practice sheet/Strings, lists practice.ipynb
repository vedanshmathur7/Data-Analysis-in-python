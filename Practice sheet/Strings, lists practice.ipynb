{
 "cells": [
  {
   "cell_type": "markdown",
   "id": "a2b7044e-45fd-4f3e-ae04-b8ca6ae00343",
   "metadata": {},
   "source": [
    "🔹 Q6. Anagram Check\n",
    "\n",
    "Write a program to check if two strings are anagrams of each other.\n",
    "👉 Example: \"listen\" and \"silent\" → Anagrams."
   ]
  },
  {
   "cell_type": "code",
   "execution_count": 7,
   "id": "1c862d86-212d-4ce2-8c4c-40c302132c2c",
   "metadata": {},
   "outputs": [
    {
     "data": {
      "text/plain": [
       "'it is not'"
      ]
     },
     "execution_count": 7,
     "metadata": {},
     "output_type": "execute_result"
    }
   ],
   "source": [
    "def check_anagram (ramesh, suresh):\n",
    "    ramesh.replace(\" \",\"\")\n",
    "    suresh.replace(\" \",\"\")\n",
    "\n",
    "    if sorted(ramesh)==sorted (suresh):\n",
    "        return f\"Yes {ramesh} and {suresh} are anagrams\"\n",
    "    else :\n",
    "        return \"it is not\"\n",
    "\n",
    "\n",
    "check_anagram(\"listen\", \"silent\")\n"
   ]
  },
  {
   "cell_type": "code",
   "execution_count": null,
   "id": "e098ee39-609f-43c9-b190-eab88f48abff",
   "metadata": {},
   "outputs": [],
   "source": []
  },
  {
   "cell_type": "code",
   "execution_count": null,
   "id": "4a0c6d02-8d62-4cb5-8bef-059ffcfb89da",
   "metadata": {},
   "outputs": [],
   "source": []
  },
  {
   "cell_type": "markdown",
   "id": "1fca9f62-c31b-4f84-834a-0e2a8b6a804e",
   "metadata": {},
   "source": [
    "Q7. Word Frequency\n",
    "\n",
    "Write a program to count the frequency of each word in a given sentence.\n",
    "👉 Example: \"python is easy and python is powerful\" → { 'python':2, 'is':2, 'easy':1, 'and':1, 'powerful':1 }"
   ]
  },
  {
   "cell_type": "code",
   "execution_count": 15,
   "id": "e04f5355-eb6d-4664-a595-7466040ab368",
   "metadata": {},
   "outputs": [
    {
     "data": {
      "text/plain": [
       "{'python': 2, 'is': 2, 'easy': 1, 'and': 1, 'powerful': 1}"
      ]
     },
     "execution_count": 15,
     "metadata": {},
     "output_type": "execute_result"
    }
   ],
   "source": [
    "word =  \"python is easy and python is powerful\"\n",
    "word = word.split()\n",
    "dict1 = {}\n",
    "\n",
    "for i in word:\n",
    "    if (i in dict1):\n",
    "        dict1[i] += 1\n",
    "    else :\n",
    "        dict1[i] =1\n",
    "\n",
    "dict1\n",
    "# word"
   ]
  },
  {
   "cell_type": "code",
   "execution_count": null,
   "id": "794f9e29-a4b7-4a19-83cc-4972ca07d99e",
   "metadata": {},
   "outputs": [],
   "source": []
  },
  {
   "cell_type": "code",
   "execution_count": null,
   "id": "e6a87473-c8b9-47e7-8d94-fae33bc822c4",
   "metadata": {},
   "outputs": [],
   "source": []
  },
  {
   "cell_type": "markdown",
   "id": "cc73c64a-efd9-4e8b-9da5-810a05584515",
   "metadata": {},
   "source": [
    "Q8. Remove Punctuation\n",
    "\n",
    "Write a program to remove all punctuation (.,!?;: etc.) from a string."
   ]
  },
  {
   "cell_type": "code",
   "execution_count": 18,
   "id": "942c217e-e4df-4e3a-9bf7-f418bdd16463",
   "metadata": {},
   "outputs": [
    {
     "data": {
      "text/plain": [
       "'klsgdjafhasdfjhjlksdjffaisifjd'"
      ]
     },
     "execution_count": 18,
     "metadata": {},
     "output_type": "execute_result"
    }
   ],
   "source": [
    "# 65 to 90, while for small letters, it extends from 97 to 122\n",
    "\n",
    "string2 = \"klsgdjafh!asdfjh# jlksdjffa?isifjd@\"\n",
    "result = \"\"\n",
    "\n",
    "for i in string2:\n",
    "    if (65 <= ord(i) <= 90) or (97 <= ord(i) <= 122):\n",
    "        result+= i\n",
    "\n",
    "result"
   ]
  },
  {
   "cell_type": "code",
   "execution_count": null,
   "id": "d87e56d2-be12-4ac5-85b1-61f333fd5ee8",
   "metadata": {},
   "outputs": [],
   "source": []
  },
  {
   "cell_type": "code",
   "execution_count": null,
   "id": "08e288e3-1a41-4af8-98e3-67aab8dc4884",
   "metadata": {},
   "outputs": [],
   "source": []
  },
  {
   "cell_type": "markdown",
   "id": "e6df66af-31b2-4abb-a6bf-89fc41baa4a3",
   "metadata": {},
   "source": [
    "🔹 Q9. First Non-Repeating Character\n",
    "\n",
    "Write a program to find the first non-repeating character in a string.\n",
    "👉 Example: \"aabbcde\" → Output: 'c'"
   ]
  },
  {
   "cell_type": "code",
   "execution_count": 21,
   "id": "6020aff9-ee74-4888-9e4a-21bb7d37be27",
   "metadata": {},
   "outputs": [
    {
     "name": "stdout",
     "output_type": "stream",
     "text": [
      "f\n",
      "None\n"
     ]
    }
   ],
   "source": [
    "def first_non_repeating(s):\n",
    "    freq = {}\n",
    "    \n",
    "    # count frequency\n",
    "    for ch in s:\n",
    "        freq[ch] = freq.get(ch, 0) + 1\n",
    "    \n",
    "    # find first character with count = 1\n",
    "    for ch in s:\n",
    "        if freq[ch] == 1:\n",
    "            return ch\n",
    "    return None  # if no unique char\n",
    "\n",
    "# test\n",
    "print(first_non_repeating(\"aabfbcde\"))   # c\n",
    "print(first_non_repeating(\"aabbcc\"))    # None\n"
   ]
  },
  {
   "cell_type": "code",
   "execution_count": null,
   "id": "49c2809c-6d8d-44b3-bc5d-f5f42f37e482",
   "metadata": {},
   "outputs": [],
   "source": []
  },
  {
   "cell_type": "code",
   "execution_count": null,
   "id": "687d71f2-a58c-47e8-893d-4401e792b292",
   "metadata": {},
   "outputs": [],
   "source": []
  },
  {
   "cell_type": "markdown",
   "id": "190b682a-d4c0-4685-ab86-69202af3871f",
   "metadata": {},
   "source": [
    "Q10. Longest Word in a Sentence\n",
    "\n",
    "Write a program to find the longest word in a sentence entered by the user."
   ]
  },
  {
   "cell_type": "code",
   "execution_count": 28,
   "id": "b6e092ac-ad7b-4667-b397-ced4587a3acf",
   "metadata": {},
   "outputs": [
    {
     "name": "stdin",
     "output_type": "stream",
     "text": [
      "Enter the sentence:   m mm mmmmm mm mmm mmm\n"
     ]
    },
    {
     "data": {
      "text/plain": [
       "'mmmmm'"
      ]
     },
     "execution_count": 28,
     "metadata": {},
     "output_type": "execute_result"
    }
   ],
   "source": [
    "word2 = input (\"Enter the sentence: \")\n",
    "\n",
    "longest_word = \"\"\n",
    "\n",
    "splitted_word = word2.split()\n",
    "\n",
    "for i in splitted_word:\n",
    "    if (len (i) > len(longest_word)):\n",
    "        longest_word = i\n",
    "\n",
    "longest_word\n",
    "    "
   ]
  },
  {
   "cell_type": "code",
   "execution_count": null,
   "id": "83a6e0b0-007c-4d81-a1a8-e01ac27c64b7",
   "metadata": {},
   "outputs": [],
   "source": []
  },
  {
   "cell_type": "code",
   "execution_count": null,
   "id": "c5302f24-93da-414a-a8fd-cbc060889607",
   "metadata": {},
   "outputs": [],
   "source": []
  },
  {
   "cell_type": "markdown",
   "id": "f3c623d9-f516-4ca3-afe7-a25fe55f1de5",
   "metadata": {},
   "source": [
    "# Lists"
   ]
  },
  {
   "cell_type": "markdown",
   "id": "ec59d75b-c9cb-4a88-a2ae-579587301cc4",
   "metadata": {},
   "source": [
    "Q7. Remove Duplicates from a List\n",
    "\n",
    "Write a program to remove all duplicate elements from a list while preserving the original order."
   ]
  },
  {
   "cell_type": "code",
   "execution_count": 34,
   "id": "eacd190d-a49b-4e24-842b-05c48f3a0af7",
   "metadata": {},
   "outputs": [
    {
     "data": {
      "text/plain": [
       "[89, 90, 78]"
      ]
     },
     "execution_count": 34,
     "metadata": {},
     "output_type": "execute_result"
    }
   ],
   "source": [
    "lsit = [89, 89, 90, 90, 78]\n",
    "without_duplicates = []\n",
    "\n",
    "for i in lsit:\n",
    "    if (i not in without_duplicates):\n",
    "        without_duplicates.append(i)\n",
    "\n",
    "without_duplicates"
   ]
  },
  {
   "cell_type": "code",
   "execution_count": null,
   "id": "b4fe674f-7bc3-48c7-857e-18428eda5c4f",
   "metadata": {},
   "outputs": [],
   "source": []
  },
  {
   "cell_type": "code",
   "execution_count": null,
   "id": "796f2b12-f8de-4378-b436-719bfeccf559",
   "metadata": {},
   "outputs": [],
   "source": []
  },
  {
   "cell_type": "markdown",
   "id": "87a97f8d-397d-44e4-9e66-c32acd98b294",
   "metadata": {},
   "source": [
    "Q8. Merge Two Lists\n",
    "\n",
    "Write a program to merge two lists into a single list."
   ]
  },
  {
   "cell_type": "code",
   "execution_count": 39,
   "id": "d216728c-2431-4ee0-802b-552d5b277121",
   "metadata": {},
   "outputs": [
    {
     "data": {
      "text/plain": [
       "['vedansh', 'vishal', 'tejaswi', 'mohak', 'sourav']"
      ]
     },
     "execution_count": 39,
     "metadata": {},
     "output_type": "execute_result"
    }
   ],
   "source": [
    "list1= [\"vedansh\", \"vishal\", \"tejaswi\"]\n",
    "list2 = [\"mohak\", \"sourav\"]\n",
    "\n",
    "list1.extend(list2)\n",
    "\n",
    "list1"
   ]
  },
  {
   "cell_type": "code",
   "execution_count": null,
   "id": "8713553d-deb6-4c9f-b0ee-293416a11f08",
   "metadata": {},
   "outputs": [],
   "source": []
  },
  {
   "cell_type": "code",
   "execution_count": null,
   "id": "32f5fce4-1321-4926-8451-c66e5eb53801",
   "metadata": {},
   "outputs": [],
   "source": []
  },
  {
   "cell_type": "markdown",
   "id": "57aa7e19-b0f3-498b-8396-4d5557ea607b",
   "metadata": {},
   "source": [
    "Q9. Find Second Largest Element\n",
    "\n",
    "Write a program to find the second largest number in a list."
   ]
  },
  {
   "cell_type": "code",
   "execution_count": 42,
   "id": "116ab5bf-2c49-41c1-9dc0-f3ac6a1c7437",
   "metadata": {},
   "outputs": [
    {
     "data": {
      "text/plain": [
       "array(['__add__', '__class__', '__class_getitem__', '__contains__',\n",
       "       '__delattr__', '__delitem__', '__dir__', '__doc__', '__eq__',\n",
       "       '__format__', '__ge__', '__getattribute__', '__getitem__',\n",
       "       '__getstate__', '__gt__', '__hash__', '__iadd__', '__imul__',\n",
       "       '__init__', '__init_subclass__', '__iter__', '__le__', '__len__',\n",
       "       '__lt__', '__mul__', '__ne__', '__new__', '__reduce__',\n",
       "       '__reduce_ex__', '__repr__', '__reversed__', '__rmul__',\n",
       "       '__setattr__', '__setitem__', '__sizeof__', '__str__',\n",
       "       '__subclasshook__', 'append', 'clear', 'copy', 'count', 'extend',\n",
       "       'index', 'insert', 'pop', 'remove', 'reverse', 'sort'],\n",
       "      dtype='<U17')"
      ]
     },
     "execution_count": 42,
     "metadata": {},
     "output_type": "execute_result"
    }
   ],
   "source": [
    "import numpy as np\n",
    "np.hstack(dir (list))"
   ]
  },
  {
   "cell_type": "code",
   "execution_count": 50,
   "id": "72cf6631-4cfd-4061-b782-80287a9150b8",
   "metadata": {},
   "outputs": [
    {
     "data": {
      "text/plain": [
       "90"
      ]
     },
     "execution_count": 50,
     "metadata": {},
     "output_type": "execute_result"
    }
   ],
   "source": [
    "rajesh = [90, 78, 100, 23, 89, 88]\n",
    "rajesh.sort()\n",
    "\n",
    "rajesh[-2]"
   ]
  },
  {
   "cell_type": "code",
   "execution_count": null,
   "id": "3b9d0b83-2efd-49ac-85c1-93f45fe082f0",
   "metadata": {},
   "outputs": [],
   "source": []
  },
  {
   "cell_type": "code",
   "execution_count": null,
   "id": "1892e63f-c75d-4f8e-864e-9f7b704fbfd2",
   "metadata": {},
   "outputs": [],
   "source": []
  },
  {
   "cell_type": "markdown",
   "id": "bd257638-f98d-4e27-9979-937ed6af926d",
   "metadata": {},
   "source": [
    "Q10. Count Even and Odd Numbers\n",
    "\n",
    "Write a program to count the number of even and odd numbers in a list."
   ]
  },
  {
   "cell_type": "code",
   "execution_count": 56,
   "id": "35e510e2-e66a-4ed7-9f58-c557691a3978",
   "metadata": {},
   "outputs": [
    {
     "name": "stdout",
     "output_type": "stream",
     "text": [
      "1\n",
      "5\n",
      "Odd no.s:  [87, 77, 3, 89, 7]\n",
      "Even no.s:  [90]\n"
     ]
    }
   ],
   "source": [
    "sursh = [90, 87, 77, 3, 89, 7]\n",
    "even_count = 0\n",
    "even_list = []\n",
    "odd_list = []\n",
    "odd_count = 0\n",
    "for i in sursh:\n",
    "    if (i %2 == 0):\n",
    "        even_count+=1\n",
    "        even_list.append(i)\n",
    "    else :\n",
    "        odd_count+=1\n",
    "        odd_list.append(i)\n",
    "\n",
    "print (even_count)\n",
    "print (odd_count)\n",
    "print (\"Odd no.s: \",odd_list)\n",
    "print (\"Even no.s: \",even_list)\n"
   ]
  },
  {
   "cell_type": "code",
   "execution_count": null,
   "id": "7d95c275-acb5-4a4b-a5d3-ba378360651b",
   "metadata": {},
   "outputs": [],
   "source": []
  },
  {
   "cell_type": "code",
   "execution_count": null,
   "id": "11992781-4189-4899-8a9f-0c4c75a0aa80",
   "metadata": {},
   "outputs": [],
   "source": []
  },
  {
   "cell_type": "markdown",
   "id": "9d35aeb1-0ab0-4f38-b859-40b2d10668d9",
   "metadata": {},
   "source": [
    "# Tuples"
   ]
  },
  {
   "cell_type": "markdown",
   "id": "ee728260-1cc3-4808-939c-b26262609573",
   "metadata": {},
   "source": [
    "Q6. Reverse a Tuple\n",
    "\n",
    "Write a program to reverse a tuple without using the reversed() function."
   ]
  },
  {
   "cell_type": "code",
   "execution_count": 58,
   "id": "2d98855f-ed45-496c-9a09-4d8dc15257f7",
   "metadata": {},
   "outputs": [
    {
     "name": "stdout",
     "output_type": "stream",
     "text": [
      "('vednash', 9, 67, 89, 9, 78, 67)\n"
     ]
    }
   ],
   "source": [
    "tuple1 = (67, 78, 9, 89, 67, 9, \"vednash\")\n",
    "print (tuple1[::-1])"
   ]
  },
  {
   "cell_type": "code",
   "execution_count": null,
   "id": "c6f4486f-80af-4765-a51c-558ceec0ed93",
   "metadata": {},
   "outputs": [],
   "source": []
  },
  {
   "cell_type": "code",
   "execution_count": null,
   "id": "6f1f468f-5e30-4d98-9336-c41d4a11d588",
   "metadata": {},
   "outputs": [],
   "source": []
  },
  {
   "cell_type": "markdown",
   "id": "10be9b77-04d8-42e3-958b-d4b15697eaf7",
   "metadata": {},
   "source": [
    "Q7. Tuple Concatenation\n",
    "\n",
    "Write a program to merge (concatenate) two tuples into a single tuple."
   ]
  },
  {
   "cell_type": "code",
   "execution_count": 64,
   "id": "df5877e8-a52e-47e3-8b82-4ae2ea72e7e9",
   "metadata": {},
   "outputs": [
    {
     "data": {
      "text/plain": [
       "(90, 78, 'vishal', 89, 'vedansh', 'shakk ke andhere m jannat')"
      ]
     },
     "execution_count": 64,
     "metadata": {},
     "output_type": "execute_result"
    }
   ],
   "source": [
    "ramesh = (90, 78, \"vishal\")\n",
    "suresh = (89, \"vedansh\", \"shakk ke andhere m jannat\")\n",
    "sonu = []\n",
    "\n",
    "sonu.extend(list(ramesh))\n",
    "sonu.extend(list(suresh))\n",
    "tuple(sonu)"
   ]
  },
  {
   "cell_type": "code",
   "execution_count": null,
   "id": "9917f4ed-621e-4c20-a367-0a7b3579304f",
   "metadata": {},
   "outputs": [],
   "source": []
  },
  {
   "cell_type": "code",
   "execution_count": null,
   "id": "7f576a82-5ad2-4450-a743-21fe33493332",
   "metadata": {},
   "outputs": [],
   "source": []
  },
  {
   "cell_type": "markdown",
   "id": "a73e200a-617a-4a54-a2ef-0e594a31a14f",
   "metadata": {},
   "source": [
    "Q8. Remove Duplicates from a Tuple\n",
    "\n",
    "Write a program to remove duplicates from a tuple and return a new tuple with unique elements."
   ]
  },
  {
   "cell_type": "code",
   "execution_count": 73,
   "id": "7e5c8f1c-8b74-4ed4-861b-e02756987202",
   "metadata": {},
   "outputs": [
    {
     "data": {
      "text/plain": [
       "(90, 78, 'vishal', 89, 25, 65)"
      ]
     },
     "execution_count": 73,
     "metadata": {},
     "output_type": "execute_result"
    }
   ],
   "source": [
    "ramesh = (90, 78, \"vishal\", 90, 'vishal', 78, 89, 25, 65)\n",
    "unique = ()\n",
    "\n",
    "for i in ramesh:\n",
    "    if (i not in unique):\n",
    "        unique += (i,)\n",
    "\n",
    "unique"
   ]
  },
  {
   "cell_type": "code",
   "execution_count": null,
   "id": "8ee7a69f-4424-4036-b0a4-13bab5b7a63a",
   "metadata": {},
   "outputs": [],
   "source": []
  },
  {
   "cell_type": "code",
   "execution_count": null,
   "id": "320f3fed-2f91-4026-b100-29abdbddab63",
   "metadata": {},
   "outputs": [],
   "source": []
  },
  {
   "cell_type": "markdown",
   "id": "5b77534e-7e67-44f1-b2d5-7ce5f012c342",
   "metadata": {},
   "source": [
    "Q9. Find the Second Largest Element in a Tuple\n",
    "\n",
    "Write a program to find the second largest number in a tuple."
   ]
  },
  {
   "cell_type": "code",
   "execution_count": 79,
   "id": "a0ba1087-ca58-4e41-9c7e-d6458daf804a",
   "metadata": {},
   "outputs": [
    {
     "name": "stdout",
     "output_type": "stream",
     "text": [
      "40596\n"
     ]
    }
   ],
   "source": [
    "tuple1 = (89, 90, 67, 90, 6545, 48567, 40596 , 587)\n",
    "\n",
    "sorted_tuple = sorted(tuple1)\n",
    "\n",
    "print (sorted_tuple[-2])"
   ]
  },
  {
   "cell_type": "code",
   "execution_count": null,
   "id": "62302acf-3148-4b03-b3ad-4b2c100b1415",
   "metadata": {},
   "outputs": [],
   "source": []
  },
  {
   "cell_type": "code",
   "execution_count": null,
   "id": "7aca6742-3762-4dd8-8207-1e08074259be",
   "metadata": {},
   "outputs": [],
   "source": []
  },
  {
   "cell_type": "code",
   "execution_count": 103,
   "id": "17996ed7-a129-475e-a0ad-a2ea14370bca",
   "metadata": {},
   "outputs": [
    {
     "data": {
      "text/plain": [
       "3"
      ]
     },
     "execution_count": 103,
     "metadata": {},
     "output_type": "execute_result"
    }
   ],
   "source": [
    "task = \"Cednahs sdjfklk asjfk\"\n",
    "vowels = ['a', 'e', 'i', 'o', 'u']\n",
    "count =0\n",
    "\n",
    "for i in task:\n",
    "    if (i.lower() in vowels):\n",
    "        count += 1\n",
    "\n",
    "count"
   ]
  },
  {
   "cell_type": "code",
   "execution_count": null,
   "id": "bb267cc6-9afd-4e1c-9f20-5e333bb7878b",
   "metadata": {},
   "outputs": [],
   "source": []
  },
  {
   "cell_type": "code",
   "execution_count": null,
   "id": "c96e2777-4214-41f7-8c7a-4e966650c868",
   "metadata": {},
   "outputs": [],
   "source": []
  },
  {
   "cell_type": "markdown",
   "id": "23214eb3-3d93-4c38-bd60-71db3fd3a285",
   "metadata": {},
   "source": [
    "# Dictionery"
   ]
  },
  {
   "cell_type": "code",
   "execution_count": 104,
   "id": "16aeee7c-3a93-454e-a568-9668923141c3",
   "metadata": {},
   "outputs": [
    {
     "data": {
      "text/plain": [
       "array(['__class__', '__class_getitem__', '__contains__', '__delattr__',\n",
       "       '__delitem__', '__dir__', '__doc__', '__eq__', '__format__',\n",
       "       '__ge__', '__getattribute__', '__getitem__', '__getstate__',\n",
       "       '__gt__', '__hash__', '__init__', '__init_subclass__', '__ior__',\n",
       "       '__iter__', '__le__', '__len__', '__lt__', '__ne__', '__new__',\n",
       "       '__or__', '__reduce__', '__reduce_ex__', '__repr__',\n",
       "       '__reversed__', '__ror__', '__setattr__', '__setitem__',\n",
       "       '__sizeof__', '__str__', '__subclasshook__', 'clear', 'copy',\n",
       "       'fromkeys', 'get', 'items', 'keys', 'pop', 'popitem', 'setdefault',\n",
       "       'update', 'values'], dtype='<U17')"
      ]
     },
     "execution_count": 104,
     "metadata": {},
     "output_type": "execute_result"
    }
   ],
   "source": [
    "np.hstack(dir(dict))"
   ]
  },
  {
   "cell_type": "markdown",
   "id": "8bd4ce07-d561-44bc-a148-1005e1c36c62",
   "metadata": {},
   "source": [
    "Q6. Merge Two Dictionaries\n",
    "\n",
    "Write a program to merge two dictionaries into a single dictionary."
   ]
  },
  {
   "cell_type": "code",
   "execution_count": 109,
   "id": "b86e16a1-8bd7-4bfa-b13a-7e62eb411608",
   "metadata": {},
   "outputs": [
    {
     "name": "stdout",
     "output_type": "stream",
     "text": [
      "dict_keys(['mane', 'place', 'vishal', 'vishesh'])\n",
      "dict_items([('mane', 'palce'), ('place', 'jaiur'), ('vishal', 'op'), ('vishesh', 'some one else')])\n",
      "dict_values(['palce', 'jaiur', 'op', 'some one else'])\n"
     ]
    }
   ],
   "source": [
    "dict1= {\n",
    "    \"mane\": \"palce\",\n",
    "    \"place\": \"jaiur\"\n",
    "}\n",
    "\n",
    "dict2 = {\n",
    "    \"vishal\": 'op',\n",
    "    \"vishesh\": \"some one else\"\n",
    "}\n",
    "\n",
    "dict1.update(dict2)\n",
    "\n",
    "print (dict1.keys())\n",
    "print (dict1.items())\n",
    "print (dict1.values())"
   ]
  },
  {
   "cell_type": "code",
   "execution_count": null,
   "id": "5912a6a4-4657-4035-b3e5-84f9d9fe0a19",
   "metadata": {},
   "outputs": [],
   "source": []
  },
  {
   "cell_type": "code",
   "execution_count": null,
   "id": "20c83304-37d3-4597-9fdf-65790d456b33",
   "metadata": {},
   "outputs": [],
   "source": []
  },
  {
   "cell_type": "markdown",
   "id": "174d4afe-47fb-4331-971c-8fa4094cd130",
   "metadata": {},
   "source": [
    "Q7. Remove Duplicates by Value\n",
    "\n",
    "Write a program to remove all key-value pairs from a dictionary that have duplicate values, keeping only the first occurrence."
   ]
  },
  {
   "cell_type": "code",
   "execution_count": 110,
   "id": "24d20133-e7ba-45dd-9a79-077b3d46664d",
   "metadata": {},
   "outputs": [
    {
     "name": "stdout",
     "output_type": "stream",
     "text": [
      "Dictionary without duplicate values: {'a': 10, 'b': 20, 'd': 30}\n"
     ]
    }
   ],
   "source": [
    "d = {\"a\": 10, \"b\": 20, \"c\": 10, \"d\": 30, \"e\": 20}\n",
    "seen_values = set()\n",
    "new_dict = {}\n",
    "\n",
    "for key, value in d.items():\n",
    "    if value not in seen_values:\n",
    "        new_dict[key] = value      # add if value not seen\n",
    "        seen_values.add(value)     # mark value as seen\n",
    "\n",
    "print(\"Dictionary without duplicate values:\", new_dict)\n"
   ]
  },
  {
   "cell_type": "code",
   "execution_count": null,
   "id": "a207b0de-f88d-4f45-9cc1-573188d4818c",
   "metadata": {},
   "outputs": [],
   "source": []
  },
  {
   "cell_type": "code",
   "execution_count": null,
   "id": "0483929f-3a27-4f40-88f1-46980dc79e02",
   "metadata": {},
   "outputs": [],
   "source": []
  },
  {
   "cell_type": "markdown",
   "id": "a99b71c7-620a-4af9-a37a-14eb49afcdeb",
   "metadata": {},
   "source": [
    "Q7. Find Key with Maximum Value\n",
    "\n",
    "Write a program to find the student with the highest marks in a dictionary."
   ]
  },
  {
   "cell_type": "code",
   "execution_count": 115,
   "id": "0c28ba85-47f8-4ec3-9cdf-c84a5d13f861",
   "metadata": {},
   "outputs": [
    {
     "name": "stdout",
     "output_type": "stream",
     "text": [
      "highest 100\n",
      "second highest 89\n"
     ]
    }
   ],
   "source": [
    "marks = {\n",
    "    \"marks1\": 89,\n",
    "    \"marks2\": 100,\n",
    "    \"marks3\": 77\n",
    "}\n",
    "sorted_marks = sorted (marks.values())\n",
    "print (\"highest\", sorted_marks[-1])\n",
    "print (\"second highest\", sorted_marks[-2])\n",
    "\n",
    "# for i in marks.values():\n",
    "#     max()"
   ]
  },
  {
   "cell_type": "code",
   "execution_count": 119,
   "id": "62684614-6af3-412c-b376-97022d710e87",
   "metadata": {},
   "outputs": [
    {
     "data": {
      "text/plain": [
       "True"
      ]
     },
     "execution_count": 119,
     "metadata": {},
     "output_type": "execute_result"
    }
   ],
   "source": [
    "l1 = [89, 89, 88]\n",
    "l2 = [89, 89, 88]\n",
    "\n",
    "l1==l2"
   ]
  },
  {
   "cell_type": "code",
   "execution_count": null,
   "id": "5646e764-6439-4bb8-92a4-f08f626afa11",
   "metadata": {},
   "outputs": [],
   "source": []
  }
 ],
 "metadata": {
  "kernelspec": {
   "display_name": "Python 3 (ipykernel)",
   "language": "python",
   "name": "python3"
  },
  "language_info": {
   "codemirror_mode": {
    "name": "ipython",
    "version": 3
   },
   "file_extension": ".py",
   "mimetype": "text/x-python",
   "name": "python",
   "nbconvert_exporter": "python",
   "pygments_lexer": "ipython3",
   "version": "3.13.3"
  }
 },
 "nbformat": 4,
 "nbformat_minor": 5
}
