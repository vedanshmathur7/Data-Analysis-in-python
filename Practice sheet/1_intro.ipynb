{
 "cells": [
  {
   "cell_type": "markdown",
   "id": "895b45ab-124f-40f5-9c48-c26b6252b332",
   "metadata": {},
   "source": [
    "# section 1 Introduction to Python for Data Analytics"
   ]
  },
  {
   "cell_type": "markdown",
   "id": "d4e24e70-12d1-4580-bd76-94f529740e71",
   "metadata": {},
   "source": [
    "q1 Write a Python program to find the largest of three numbers entered by the user."
   ]
  },
  {
   "cell_type": "code",
   "execution_count": 4,
   "id": "103da66f-8e7c-4bc1-ad78-aa5cbcb10db5",
   "metadata": {},
   "outputs": [
    {
     "name": "stdin",
     "output_type": "stream",
     "text": [
      "Enter the no.:  89\n",
      "Enter the no.:  45\n",
      "Enter the no.:  12\n"
     ]
    },
    {
     "name": "stdout",
     "output_type": "stream",
     "text": [
      "num1 is the largest among 3\n"
     ]
    }
   ],
   "source": [
    "num1 = int (input (\"Enter the no.: \"))\n",
    "num2 = int (input (\"Enter the no.: \"))\n",
    "num3 = int (input (\"Enter the no.: \"))\n",
    "\n",
    "if (num1> num2 and num1> num3):\n",
    "    print (\"num1 is the largest among 3\")\n",
    "elif (num2> num1 and num2> num3):\n",
    "    print (\"num2 is the largest among 3\")\n",
    "elif (num3> num2 and num3> num1):\n",
    "    print (\"num3 is the largest among 3\")"
   ]
  },
  {
   "cell_type": "code",
   "execution_count": null,
   "id": "9ed6e3a5-86bc-4a27-b629-886a4addd1e2",
   "metadata": {},
   "outputs": [],
   "source": []
  },
  {
   "cell_type": "markdown",
   "id": "4966f8dc-236b-4308-a8b1-aa41d4ed7e06",
   "metadata": {},
   "source": [
    "Given a list of numbers, print only the even numbers using a loop."
   ]
  },
  {
   "cell_type": "code",
   "execution_count": 6,
   "id": "5d91d6b4-79b6-4f60-a2b5-1690611646da",
   "metadata": {},
   "outputs": [
    {
     "name": "stdout",
     "output_type": "stream",
     "text": [
      "56\n",
      "78\n",
      "78\n",
      "90\n",
      "100\n"
     ]
    }
   ],
   "source": [
    "l1 = [56, 67, 78, 78, 90, 100]\n",
    "for i in l1:\n",
    "    if i %2==0:\n",
    "        print (i)"
   ]
  },
  {
   "cell_type": "code",
   "execution_count": null,
   "id": "20d008ba-6715-411f-b256-952212a2ec32",
   "metadata": {},
   "outputs": [],
   "source": []
  },
  {
   "cell_type": "code",
   "execution_count": null,
   "id": "74ea1c2c-ccc4-4ace-af37-71a9d0cb76bd",
   "metadata": {},
   "outputs": [],
   "source": []
  },
  {
   "cell_type": "markdown",
   "id": "d887d1d8-dd83-4d9c-80c0-69e3009be1c2",
   "metadata": {},
   "source": [
    "Write a program to reverse a list without using built-in reverse()."
   ]
  },
  {
   "cell_type": "code",
   "execution_count": 15,
   "id": "4817caf6-7553-4b9c-a03d-884c1f2e61c8",
   "metadata": {},
   "outputs": [
    {
     "data": {
      "text/plain": [
       "[100, 90, 78, 78, 67, 56]"
      ]
     },
     "execution_count": 15,
     "metadata": {},
     "output_type": "execute_result"
    }
   ],
   "source": [
    "l1 = [56, 67, 78, 78, 90, 100]\n",
    "\n",
    "reversed_list = l1[::-1]\n",
    "reversed_list"
   ]
  },
  {
   "cell_type": "code",
   "execution_count": null,
   "id": "c12ff136-96a8-415e-9db8-7f3f9ec0909f",
   "metadata": {},
   "outputs": [],
   "source": []
  },
  {
   "cell_type": "code",
   "execution_count": null,
   "id": "fbcf6902-ae4d-46cf-9899-4384ff0a6ee7",
   "metadata": {},
   "outputs": [],
   "source": []
  },
  {
   "cell_type": "markdown",
   "id": "da0d53a4-5db1-4ae7-99d7-5ed358ebe4e3",
   "metadata": {},
   "source": [
    "Create a dictionary of 3 students with their names as keys and marks as values. Print the student with the highest marks."
   ]
  },
  {
   "cell_type": "code",
   "execution_count": 22,
   "id": "b3956985-5fb7-49c4-abc6-1cecba702221",
   "metadata": {},
   "outputs": [
    {
     "name": "stdout",
     "output_type": "stream",
     "text": [
      "98\n"
     ]
    }
   ],
   "source": [
    "dict1 = {\n",
    "    \"Vedansh\":98,\n",
    "    \"vishal\" : 88,\n",
    "    \"vishesh\": 42\n",
    "}\n",
    "\n",
    "dict1.keys()\n",
    "dict1.values()\n",
    "dict1.items()\n",
    "\n",
    "topper = max(dict1.values())\n",
    "print (topper)"
   ]
  },
  {
   "cell_type": "code",
   "execution_count": null,
   "id": "ac3a39a7-1dde-4bfe-af07-4a1ed74841ac",
   "metadata": {},
   "outputs": [],
   "source": []
  },
  {
   "cell_type": "code",
   "execution_count": null,
   "id": "154442d0-e1b8-45b9-abf0-75c485369846",
   "metadata": {},
   "outputs": [],
   "source": []
  },
  {
   "cell_type": "markdown",
   "id": "d4a1f3e9-0e3a-4110-9eea-83fb3c88f53e",
   "metadata": {},
   "source": [
    "6. Write a function is_prime(n) to check if a number is prime or not."
   ]
  },
  {
   "cell_type": "code",
   "execution_count": 30,
   "id": "e8d26c50-3cbc-460e-b981-b2dc3d62425c",
   "metadata": {},
   "outputs": [
    {
     "name": "stdout",
     "output_type": "stream",
     "text": [
      "the no. is not prime\n",
      "None\n"
     ]
    }
   ],
   "source": [
    "def prime_check(num):\n",
    "    \n",
    "    count = 0\n",
    "    for i in range (1, num+1):\n",
    "        if (num % i ==0):\n",
    "            count +=1\n",
    "\n",
    "    if count == 2:\n",
    "        print (\"the no. is prime\")\n",
    "    else :\n",
    "        print (\"the no. is not prime\")\n",
    "\n",
    "\n",
    "print (prime_check(45))"
   ]
  },
  {
   "cell_type": "code",
   "execution_count": null,
   "id": "3141351b-6438-4126-9fc3-918d80f2ccad",
   "metadata": {},
   "outputs": [],
   "source": []
  },
  {
   "cell_type": "code",
   "execution_count": null,
   "id": "39241426-fda5-44e8-9da1-361a4f079c71",
   "metadata": {},
   "outputs": [],
   "source": []
  },
  {
   "cell_type": "markdown",
   "id": "41da37c0-4801-47f2-bbb0-c1bba424aad3",
   "metadata": {},
   "source": [
    "check for pallindrome"
   ]
  },
  {
   "cell_type": "code",
   "execution_count": 38,
   "id": "e28f257d-0eb5-490d-b552-45d1008c089e",
   "metadata": {},
   "outputs": [
    {
     "data": {
      "text/plain": [
       "True"
      ]
     },
     "execution_count": 38,
     "metadata": {},
     "output_type": "execute_result"
    }
   ],
   "source": [
    "string1 = [1,3,3,1]\n",
    "\n",
    "pallindrome = string1[::-1]\n",
    "\n",
    "string1 == pallindrome"
   ]
  },
  {
   "cell_type": "code",
   "execution_count": null,
   "id": "f7d149d3-5844-4b3b-98bb-b18d0b8c11be",
   "metadata": {},
   "outputs": [],
   "source": []
  },
  {
   "cell_type": "code",
   "execution_count": null,
   "id": "ffa75bfc-7fa3-404f-a90b-0026d419ebcc",
   "metadata": {},
   "outputs": [],
   "source": []
  },
  {
   "cell_type": "markdown",
   "id": "fc74da65-b294-4417-9c51-49847bdb0439",
   "metadata": {},
   "source": [
    "Given a list [10, 20, 30, 40, 50], use *slicing* to get [20, 30, 40]."
   ]
  },
  {
   "cell_type": "code",
   "execution_count": 40,
   "id": "37909e82-33c7-42b1-abfc-71a75dc53d80",
   "metadata": {},
   "outputs": [
    {
     "data": {
      "text/plain": [
       "[20, 30, 40]"
      ]
     },
     "execution_count": 40,
     "metadata": {},
     "output_type": "execute_result"
    }
   ],
   "source": [
    "list5 = [10, 20, 30, 40, 50]\n",
    "\n",
    "list5[1:4]"
   ]
  },
  {
   "cell_type": "code",
   "execution_count": null,
   "id": "e094e8c5-0967-439c-92eb-f46a584e01e3",
   "metadata": {},
   "outputs": [],
   "source": []
  },
  {
   "cell_type": "code",
   "execution_count": null,
   "id": "37b2b5d6-23d5-4d89-935c-9f09dfdec0b7",
   "metadata": {},
   "outputs": [],
   "source": []
  },
  {
   "cell_type": "markdown",
   "id": "53ac3046-6f63-455c-9647-6c24af271650",
   "metadata": {},
   "source": [
    "9. Write a program to merge two dictionaries.\n"
   ]
  },
  {
   "cell_type": "code",
   "execution_count": 48,
   "id": "df786127-94ae-454a-9a6a-d5e5d6125986",
   "metadata": {},
   "outputs": [
    {
     "data": {
      "text/plain": [
       "{'name': 'tejaswi', 'friend': 'vedansh'}"
      ]
     },
     "execution_count": 48,
     "metadata": {},
     "output_type": "execute_result"
    }
   ],
   "source": [
    "dict1 = {\n",
    "    \"name\": \"tejaswi\"\n",
    "}\n",
    "\n",
    "dict2 = {\n",
    "    \"friend\": \"vedansh\"\n",
    "}\n",
    "\n",
    "dict1.update(dict2)\n",
    "dict1"
   ]
  },
  {
   "cell_type": "code",
   "execution_count": null,
   "id": "f01f5557-3ada-4c1a-8107-3382ce5c7c12",
   "metadata": {},
   "outputs": [],
   "source": []
  },
  {
   "cell_type": "code",
   "execution_count": null,
   "id": "e14523c3-b385-4b06-b880-00e91f383380",
   "metadata": {},
   "outputs": [],
   "source": []
  },
  {
   "cell_type": "markdown",
   "id": "bc273e1b-74fa-49d9-a8fe-73ed200e6eea",
   "metadata": {},
   "source": [
    "Write a program to accept 5 numbers from the user, store them in a list, and print the sum."
   ]
  },
  {
   "cell_type": "code",
   "execution_count": 53,
   "id": "2831fe82-5bb6-453e-92f9-3dd8286dceeb",
   "metadata": {},
   "outputs": [
    {
     "name": "stdin",
     "output_type": "stream",
     "text": [
      "Enter the no. 1 MF 89\n",
      "Enter the no. 2 MF 45\n",
      "Enter the no. 3 MF 54\n",
      "Enter the no. 4 MF 64\n",
      "Enter the no. 5 MF 5\n"
     ]
    },
    {
     "name": "stdout",
     "output_type": "stream",
     "text": [
      "The list is : [89, 45, 54, 64, 5]\n"
     ]
    }
   ],
   "source": [
    "l2=[]\n",
    "for i in range (1,6):\n",
    "    num = int (input(f\"Enter the no. {i} MF\"))\n",
    "    l2.append(num)\n",
    "\n",
    "print (\"The list is :\",l2)"
   ]
  },
  {
   "cell_type": "code",
   "execution_count": null,
   "id": "9b0a2c08-1621-49d4-8b25-49a67aa703ee",
   "metadata": {},
   "outputs": [],
   "source": []
  },
  {
   "cell_type": "code",
   "execution_count": null,
   "id": "5a9234a9-28e9-426d-9fa1-666f2d6ea650",
   "metadata": {},
   "outputs": [],
   "source": []
  },
  {
   "cell_type": "markdown",
   "id": "f365c6a6-c9af-45e0-a213-ba286ccf858b",
   "metadata": {},
   "source": [
    "2. Write a program to flatten a nested list [[1,2],[3,4],[5,6]] into [1,2,3,4,5,6].\n"
   ]
  },
  {
   "cell_type": "code",
   "execution_count": 61,
   "id": "a833e0a8-f726-4524-982d-20470a55e5d2",
   "metadata": {},
   "outputs": [
    {
     "data": {
      "text/plain": [
       "[1, 2, 3, 4, 5, 6]"
      ]
     },
     "execution_count": 61,
     "metadata": {},
     "output_type": "execute_result"
    }
   ],
   "source": [
    "flattened_list = []\n",
    "nested = [[1,2],[3,4],[5,6]]\n",
    "for sublist in nested:\n",
    "    for j in sublist:\n",
    "        flattened_list.append(j)\n",
    "\n",
    "flattened_list"
   ]
  },
  {
   "cell_type": "code",
   "execution_count": null,
   "id": "91b93c71-76f0-41a4-9f64-ded0ee68e8f7",
   "metadata": {},
   "outputs": [],
   "source": []
  },
  {
   "cell_type": "code",
   "execution_count": null,
   "id": "00c97297-3622-4cff-ac82-e3e92b849b78",
   "metadata": {},
   "outputs": [],
   "source": []
  },
  {
   "cell_type": "markdown",
   "id": "7d76c3a1-d548-4b47-a828-e819b2feeace",
   "metadata": {},
   "source": [
    "Write a Python program that counts the frequency of each character in the string \"dataanalytics\"."
   ]
  },
  {
   "cell_type": "code",
   "execution_count": 5,
   "id": "32515194-10c0-4fdd-93ab-886da60e1d50",
   "metadata": {},
   "outputs": [
    {
     "data": {
      "text/plain": [
       "{'d': 1, 'a': 4, 't': 2, 'n': 1, 'l': 1, 'y': 1, 'i': 1, 'c': 1, 's': 1}"
      ]
     },
     "execution_count": 5,
     "metadata": {},
     "output_type": "execute_result"
    }
   ],
   "source": [
    "string1 = \"dataanalytics\"\n",
    "stru = {}\n",
    "\n",
    "for i in string1:\n",
    "    if i in stru:\n",
    "        stru[i] += 1\n",
    "    else :\n",
    "        stru[i] = 1\n",
    "\n",
    "stru"
   ]
  },
  {
   "cell_type": "code",
   "execution_count": null,
   "id": "75f30c76-7ac6-4235-a5b4-4bcabdf25f1f",
   "metadata": {},
   "outputs": [],
   "source": []
  },
  {
   "cell_type": "code",
   "execution_count": null,
   "id": "cb1c6c9c-ac27-45b3-9fdb-820cf9b50201",
   "metadata": {},
   "outputs": [],
   "source": []
  },
  {
   "cell_type": "markdown",
   "id": "dc947b19-1a73-49c2-948e-aea97058e0c7",
   "metadata": {},
   "source": [
    "Write a program to remove all duplicate values from a dictionary."
   ]
  },
  {
   "cell_type": "code",
   "execution_count": 11,
   "id": "feed8e24-2123-4ac4-9b40-502aac06215d",
   "metadata": {},
   "outputs": [
    {
     "name": "stdout",
     "output_type": "stream",
     "text": [
      "Dictionary without duplicates: {'a': 10, 'b': 20, 'd': 30}\n"
     ]
    }
   ],
   "source": [
    "d = {\"a\": 10, \"b\": 20, \"c\": 10, \"d\": 30}\n",
    "seen = set()\n",
    "new_dict = {k:v for k,v in d.items() if v not in seen and not seen.add(v)}\n",
    "\n",
    "print(\"Dictionary without duplicates:\", new_dict)\n"
   ]
  },
  {
   "cell_type": "code",
   "execution_count": null,
   "id": "0ce98323-1ec6-4d7a-bdf8-b9362a092f3e",
   "metadata": {},
   "outputs": [],
   "source": []
  },
  {
   "cell_type": "code",
   "execution_count": null,
   "id": "fa371efb-b092-44e6-9c1b-acf4cf4c4c44",
   "metadata": {},
   "outputs": [],
   "source": []
  },
  {
   "cell_type": "code",
   "execution_count": null,
   "id": "d43e7906-4458-4f35-a654-3d1d55c2be6f",
   "metadata": {},
   "outputs": [],
   "source": []
  }
 ],
 "metadata": {
  "kernelspec": {
   "display_name": "Python 3 (ipykernel)",
   "language": "python",
   "name": "python3"
  },
  "language_info": {
   "codemirror_mode": {
    "name": "ipython",
    "version": 3
   },
   "file_extension": ".py",
   "mimetype": "text/x-python",
   "name": "python",
   "nbconvert_exporter": "python",
   "pygments_lexer": "ipython3",
   "version": "3.13.3"
  }
 },
 "nbformat": 4,
 "nbformat_minor": 5
}
