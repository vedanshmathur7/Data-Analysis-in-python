{
 "cells": [
  {
   "cell_type": "markdown",
   "metadata": {
    "id": "OWZ_DAa9gnis"
   },
   "source": [
    "**1. Given a list of numbers:**\n",
    "\n",
    "numbers = [4, 5, 6, 4, 5, 7, 8, 6]\n",
    "\n",
    "**Write a Python program to remove the duplicate elements while preserving the original order.**"
   ]
  },
  {
   "cell_type": "code",
   "execution_count": null,
   "metadata": {
    "colab": {
     "base_uri": "https://localhost:8080/"
    },
    "id": "tvoBICxugmpo",
    "outputId": "71bf60cb-df72-47cc-a220-ede4585c77bd"
   },
   "outputs": [
    {
     "name": "stdout",
     "output_type": "stream",
     "text": [
      "[4, 5, 6, 7, 8]\n"
     ]
    }
   ],
   "source": [
    "numbers = [4, 5, 6, 4, 5, 7, 8, 6]\n",
    "unique_numbers = []\n",
    "\n",
    "for num in numbers:\n",
    "    if num not in unique_numbers:\n",
    "        unique_numbers.append(num)\n",
    "\n",
    "print(unique_numbers)\n"
   ]
  },
  {
   "cell_type": "markdown",
   "metadata": {
    "id": "AnUNKI8Tg_ad"
   },
   "source": [
    "**2. Find the second largest number in a list.**\n",
    "\n",
    "numbers = [12, 45, 1, -1, 45, 54, 23]\n"
   ]
  },
  {
   "cell_type": "code",
   "execution_count": null,
   "metadata": {
    "colab": {
     "base_uri": "https://localhost:8080/"
    },
    "id": "yyAL8PRMg-Qu",
    "outputId": "d369578b-8a1a-4922-a1e5-d6fbce1ddeee"
   },
   "outputs": [
    {
     "name": "stdout",
     "output_type": "stream",
     "text": [
      "45\n"
     ]
    }
   ],
   "source": [
    "numbers=[12,45,1,-1,45,54,23]\n",
    "unique_numbers = list(set(numbers))\n",
    "unique_numbers.sort()\n",
    "print(unique_numbers[-2])\n",
    "# printing the last second element as indexing start from -1,-2, and so on from the last\n"
   ]
  },
  {
   "cell_type": "markdown",
   "metadata": {
    "id": "ePjdeG_zhpKM"
   },
   "source": [
    "**3. Reverse a List Without Using reverse() or [::-1]**\n",
    "\n",
    " numbers = [1, 2, 3, 4, 5]\n"
   ]
  },
  {
   "cell_type": "code",
   "execution_count": null,
   "metadata": {
    "colab": {
     "base_uri": "https://localhost:8080/"
    },
    "id": "2Z_11I6_hdSB",
    "outputId": "f3a017f6-3d7c-4ba0-9db5-55e4f7fd3509"
   },
   "outputs": [
    {
     "name": "stdout",
     "output_type": "stream",
     "text": [
      "[23, 54, 45, -1, 1, 45, 12]\n"
     ]
    }
   ],
   "source": [
    "reversed_list = []\n",
    "for i in numbers:\n",
    "    reversed_list = [i] + reversed_list\n",
    "    #[12]+[]=[12]\n",
    "    #[45]+[12]=[45,12] and so on....\n",
    "print(reversed_list)\n"
   ]
  },
  {
   "cell_type": "markdown",
   "metadata": {
    "id": "WPYGVLxjh769"
   },
   "source": [
    "**4. Count how many times each element appears in the list.**\n",
    "\n",
    "data = ['apple', 'banana', 'apple', 'orange', 'banana', 'apple']\n"
   ]
  },
  {
   "cell_type": "code",
   "execution_count": null,
   "metadata": {
    "colab": {
     "base_uri": "https://localhost:8080/"
    },
    "id": "h2qdfqpmh-9Y",
    "outputId": "a6534e29-db50-417c-b13a-073612430c82"
   },
   "outputs": [
    {
     "name": "stdout",
     "output_type": "stream",
     "text": [
      "{'apple': 3, 'banana': 2, 'orange': 1}\n"
     ]
    }
   ],
   "source": [
    "data = ['apple', 'banana', 'apple', 'orange', 'banana', 'apple']\n",
    "freq = {}\n",
    "for item in data:\n",
    "    freq[item] = freq.get(item, 0) + 1\n",
    "print(freq)\n"
   ]
  },
  {
   "cell_type": "markdown",
   "metadata": {
    "id": "n7UeYyzTjFNI"
   },
   "source": [
    "The dict.get() method in Python is a safe way to access the value for a given key in a dictionary.\n",
    "\n",
    "freq.get(item, 0) checks if item exists in the dictionary.\n",
    "\n",
    "If yes, it returns the current count.\n",
    "\n",
    "If not, it returns 0 (the default value).\n",
    "\n",
    "Then + 1 increments the count, and the result is stored back in the dictionary."
   ]
  },
  {
   "cell_type": "markdown",
   "metadata": {
    "id": "fp65n-hUiI2V"
   },
   "source": [
    "**5. Flatten a list of lists into a single list.**\n",
    "\n",
    "nested = [[1, 2], [3, 4], [5]]\n"
   ]
  },
  {
   "cell_type": "code",
   "execution_count": null,
   "metadata": {
    "colab": {
     "base_uri": "https://localhost:8080/"
    },
    "id": "CCuLue22iR42",
    "outputId": "ce6f4884-d038-41d1-8911-878d2b6f6f58"
   },
   "outputs": [
    {
     "name": "stdout",
     "output_type": "stream",
     "text": [
      "[1, 2, 3, 4, 5]\n"
     ]
    }
   ],
   "source": [
    "nested = [[1, 2], [3, 4], [5]]\n",
    "flat = []\n",
    "for sublist in nested:\n",
    "    for item in sublist:\n",
    "        flat.append(item)\n",
    "print(flat)\n"
   ]
  },
  {
   "cell_type": "markdown",
   "metadata": {
    "id": "t5vxrnTCqD6X"
   },
   "source": [
    "# You went shopping and stored item prices in a list. Print the total cost."
   ]
  },
  {
   "cell_type": "code",
   "execution_count": null,
   "metadata": {
    "id": "keSQnX9BqFhL"
   },
   "outputs": [],
   "source": [
    "prices = [120, 55, 30, 199]\n",
    "total = 0\n",
    "for price in prices:\n",
    "    total += price\n",
    "print(\"Total Cost:\", total)\n"
   ]
  },
  {
   "cell_type": "markdown",
   "metadata": {
    "id": "YzRQ8KWCpgwU"
   },
   "source": [
    "# 6. Write a function that takes a list of item prices and returns the total bill."
   ]
  },
  {
   "cell_type": "code",
   "execution_count": null,
   "metadata": {
    "id": "5qx9pXgopj0Y"
   },
   "outputs": [],
   "source": [
    "def calculate_bill(prices):\n",
    "    return sum(prices)\n",
    "\n",
    "print(calculate_bill([23.5, 45.0, 12.99]))  # Output: 81.49\n"
   ]
  },
  {
   "cell_type": "markdown",
   "metadata": {
    "id": "_9Jp-vjSpmMk"
   },
   "source": [
    "# 7. Given a set of taken usernames, check if a new username is available."
   ]
  },
  {
   "cell_type": "code",
   "execution_count": null,
   "metadata": {
    "colab": {
     "base_uri": "https://localhost:8080/"
    },
    "id": "SiWkx7SRpw0t",
    "outputId": "e7520f3c-eee7-46b7-f2a0-e4ede4b8c420"
   },
   "outputs": [
    {
     "name": "stdout",
     "output_type": "stream",
     "text": [
      "True\n"
     ]
    }
   ],
   "source": [
    "def is_username_available(username, taken_usernames):\n",
    "    return username not in taken_usernames\n",
    "\n",
    "print(is_username_available(\"john_doe\", {\"alice\", \"bob\"}))  # Output: True\n"
   ]
  },
  {
   "cell_type": "markdown",
   "metadata": {
    "id": "3sCwM5ZppzTD"
   },
   "source": [
    "# 8. Count how many students scored above 50 from a list of marks."
   ]
  },
  {
   "cell_type": "code",
   "execution_count": null,
   "metadata": {
    "id": "GObmbNWgp3MK"
   },
   "outputs": [],
   "source": [
    "def count_passed(marks):\n",
    "    return len([m for m in marks if m > 50])\n",
    "\n",
    "print(count_passed([40, 55, 65, 30]))  # Output: 2\n"
   ]
  },
  {
   "cell_type": "markdown",
   "metadata": {
    "id": "KytLxAyCqULW"
   },
   "source": [
    "# 9. Collect 5 Favorite Movies from User and Print Reverse Order"
   ]
  },
  {
   "cell_type": "code",
   "execution_count": null,
   "metadata": {
    "colab": {
     "base_uri": "https://localhost:8080/"
    },
    "id": "4md5GzWmqV7p",
    "outputId": "8a1de660-65d2-42eb-9cf7-88f0b2f3dc94"
   },
   "outputs": [
    {
     "name": "stdout",
     "output_type": "stream",
     "text": [
      "Enter a favorite movie: a\n",
      "Enter a favorite movie: b\n",
      "Enter a favorite movie: c\n",
      "Enter a favorite movie: d\n",
      "Enter a favorite movie: e\n",
      "Movies in reverse order:\n",
      "['e', 'd', 'c', 'b', 'a']\n"
     ]
    }
   ],
   "source": [
    "movies = []\n",
    "for _ in range(5):\n",
    "    movies.append(input(\"Enter a favorite movie: \"))\n",
    "print(\"Movies in reverse order:\")\n",
    "print(movies[::-1])\n"
   ]
  },
  {
   "cell_type": "markdown",
   "metadata": {
    "id": "j8BZi4Qfp4pc"
   },
   "source": [
    "# 10. Write a Function to Count Words in a Sentence"
   ]
  },
  {
   "cell_type": "code",
   "execution_count": null,
   "metadata": {
    "colab": {
     "base_uri": "https://localhost:8080/"
    },
    "id": "LG4uhZEQp3t1",
    "outputId": "95f6a174-5167-4c69-df35-201b05baeb88"
   },
   "outputs": [
    {
     "name": "stdout",
     "output_type": "stream",
     "text": [
      "Words: ['Hello,', 'world!', 'This', 'is', 'a', 'test', 'sentence.']\n",
      "Number of words: 7\n"
     ]
    }
   ],
   "source": [
    "def splitwords(sentence):\n",
    "    return sentence.split()\n",
    "\n",
    "def count_words(sentence):\n",
    "    words = splitwords(sentence)\n",
    "    return len(words)\n",
    "\n",
    "sentence = \"Hello, world! This is a test sentence.\"\n",
    "\n",
    "words = splitwords(sentence)\n",
    "word_count = count_words(sentence)\n",
    "\n",
    "print(\"Words:\", words)\n",
    "print(\"Number of words:\", word_count)"
   ]
  },
  {
   "cell_type": "markdown",
   "metadata": {
    "id": "or-R7lJUqhA0"
   },
   "source": [
    "# 11. User Input + Dictionary,  Build a Contact Book of 3 People"
   ]
  },
  {
   "cell_type": "code",
   "execution_count": null,
   "metadata": {
    "colab": {
     "base_uri": "https://localhost:8080/"
    },
    "id": "7FyTKVm4qnXi",
    "outputId": "724165c7-0fd6-4cc8-d8ee-defb7d07b061"
   },
   "outputs": [
    {
     "name": "stdout",
     "output_type": "stream",
     "text": [
      "Enter name: a\n",
      "Enter phone number: 11\n",
      "Enter name: b\n",
      "Enter phone number: 22\n",
      "Enter name: c\n",
      "Enter phone number: 33\n",
      "Contact Book: {'a': '11', 'b': '22', 'c': '33'}\n"
     ]
    }
   ],
   "source": [
    "contacts = {}\n",
    "for _ in range(3):\n",
    "    name = input(\"Enter name: \")\n",
    "    phone = input(\"Enter phone number: \")\n",
    "    contacts[name] = phone\n",
    "print(\"Contact Book:\", contacts)\n"
   ]
  },
  {
   "cell_type": "markdown",
   "metadata": {
    "id": "-ui6ZFreqn4Z"
   },
   "source": [
    "# 12. [With Function + Set] Identify Common Hobbies Between Two Users"
   ]
  },
  {
   "cell_type": "code",
   "execution_count": null,
   "metadata": {
    "id": "4w0ni_rfqsMW"
   },
   "outputs": [],
   "source": [
    "def common_hobbies(a, b):\n",
    "    return set(a) & set(b)\n",
    "\n",
    "h1 = input(\"Enter hobbies of Person A (comma separated): \").split(\",\")\n",
    "h2 = input(\"Enter hobbies of Person B (comma separated): \").split(\",\")\n",
    "print(\"Common hobbies:\", common_hobbies(h1, h2))\n"
   ]
  },
  {
   "cell_type": "markdown",
   "metadata": {
    "id": "v-VECqxHquAM"
   },
   "source": [
    "# 13. Create List of Even Numbers From 1 to N"
   ]
  },
  {
   "cell_type": "code",
   "execution_count": null,
   "metadata": {
    "id": "F9_04AEBqySK"
   },
   "outputs": [],
   "source": [
    "n = int(input(\"Enter N: \"))\n",
    "evens = []\n",
    "for i in range(1, n+1):\n",
    "    if i % 2 == 0:\n",
    "        evens.append(i)\n",
    "print(\"Even numbers:\", evens)\n"
   ]
  },
  {
   "cell_type": "markdown",
   "metadata": {
    "id": "5_TlCfL-q3X-"
   },
   "source": [
    "# 14. [User Input + Dictionary] Grade Lookup Tool"
   ]
  },
  {
   "cell_type": "code",
   "execution_count": null,
   "metadata": {
    "colab": {
     "base_uri": "https://localhost:8080/"
    },
    "id": "IxzXozdoq4h2",
    "outputId": "59a81a12-2113-464b-e69d-16800f91c0a0"
   },
   "outputs": [
    {
     "name": "stdout",
     "output_type": "stream",
     "text": [
      "Enter subject name: Math\n",
      "Grade: 85\n"
     ]
    }
   ],
   "source": [
    "grades = {\n",
    "    \"Math\": 85,\n",
    "    \"Science\": 78,\n",
    "    \"English\": 92\n",
    "}\n",
    "subject = input(\"Enter subject name: \")\n",
    "print(\"Grade:\", grades.get(subject, \"Not found\"))\n"
   ]
  },
  {
   "cell_type": "markdown",
   "metadata": {
    "id": "eqm7myYKq6Us"
   },
   "source": [
    "# 15. [With Function + Loop] Print Prime Numbers in Range"
   ]
  },
  {
   "cell_type": "markdown",
   "metadata": {
    "id": "8BuNdMf7q95m"
   },
   "source": [
    "def is_prime(num):\n",
    "    if num < 2:\n",
    "        return False\n",
    "    for i in range(2, int(num**0.5)+1):\n",
    "        if num % i == 0:\n",
    "            return False\n",
    "    return True\n",
    "\n",
    "start = int(input(\"Start: \"))\n",
    "end = int(input(\"End: \"))\n",
    "for i in range(start, end+1):\n",
    "    if is_prime(i):\n",
    "        print(i, end=\" \")\n"
   ]
  },
  {
   "cell_type": "markdown",
   "metadata": {
    "id": "7VAFq2wYrAc7"
   },
   "source": [
    "# 16. [User Input + List + Function] Course Enrollment System"
   ]
  },
  {
   "cell_type": "code",
   "execution_count": null,
   "metadata": {
    "colab": {
     "base_uri": "https://localhost:8080/"
    },
    "id": "qnm7xrKerFCU",
    "outputId": "a811a306-7cee-4cf4-ebc6-dc6fcf637db6"
   },
   "outputs": [
    {
     "name": "stdout",
     "output_type": "stream",
     "text": [
      "Enter student name: a\n",
      "Enter course name: dap\n",
      "Enter student name: b\n",
      "Enter course name: ai\n",
      "Enter student name: c\n",
      "Enter course name: dap\n",
      "Enrollment: {'dap': ['a', 'c'], 'ai': ['b']}\n"
     ]
    }
   ],
   "source": [
    "def enroll(students):\n",
    "    name = input(\"Enter student name: \")\n",
    "    course = input(\"Enter course name: \")\n",
    "    students.setdefault(course, []).append(name)\n",
    "\n",
    "courses = {}\n",
    "for _ in range(3):\n",
    "    enroll(courses)\n",
    "print(\"Enrollment:\", courses)\n"
   ]
  },
  {
   "cell_type": "markdown",
   "metadata": {
    "id": "iNcHK-LUrGZU"
   },
   "source": [
    "# 17. [No Function] Analyze Student Marks and Print Result"
   ]
  },
  {
   "cell_type": "code",
   "execution_count": null,
   "metadata": {
    "colab": {
     "base_uri": "https://localhost:8080/"
    },
    "id": "zelduGOQrJ48",
    "outputId": "6cdca213-8159-41b3-a2aa-2103aaf8fe1e"
   },
   "outputs": [
    {
     "name": "stdout",
     "output_type": "stream",
     "text": [
      "Ankit: 76 - Pass\n",
      "Pooja: 34 - Fail\n",
      "Ravi: 90 - Pass\n",
      "Sneha: 49 - Pass\n"
     ]
    }
   ],
   "source": [
    "students = {\n",
    "    \"Ankit\": 76,\n",
    "    \"Pooja\": 34,\n",
    "    \"Ravi\": 90,\n",
    "    \"Sneha\": 49\n",
    "}\n",
    "\n",
    "for name, marks in students.items():\n",
    "    result = \"Pass\" if marks >= 40 else \"Fail\"\n",
    "    print(f\"{name}: {marks} - {result}\")\n"
   ]
  },
  {
   "cell_type": "markdown",
   "metadata": {
    "id": "Bf9AO1sdrJRg"
   },
   "source": [
    "# 18.  [List + Dictionary + Function] Expense Tracker Summary"
   ]
  },
  {
   "cell_type": "code",
   "execution_count": null,
   "metadata": {
    "colab": {
     "base_uri": "https://localhost:8080/"
    },
    "id": "kX1rWm8mrQNl",
    "outputId": "b4725431-1e55-4903-cff7-13fcb8978200"
   },
   "outputs": [
    {
     "name": "stdout",
     "output_type": "stream",
     "text": [
      "Item: a\n",
      "Cost: 12\n",
      "Item: b\n",
      "Cost: 13\n",
      "Item: c\n",
      "Cost: 14\n",
      "Total spent: 39.0\n",
      "a: ₹12.0\n",
      "b: ₹13.0\n",
      "c: ₹14.0\n"
     ]
    }
   ],
   "source": [
    "def summarize_expenses(expenses):\n",
    "    total = sum(expenses.values())\n",
    "    print(\"Total spent:\", total)\n",
    "    for item, cost in expenses.items():\n",
    "        print(f\"{item}: ₹{cost}\")\n",
    "\n",
    "expenses = {}\n",
    "for _ in range(3):\n",
    "    item = input(\"Item: \")\n",
    "    cost = float(input(\"Cost: \"))\n",
    "    expenses[item] = cost\n",
    "\n",
    "summarize_expenses(expenses)\n"
   ]
  },
  {
   "cell_type": "markdown",
   "metadata": {
    "id": "O-E5oDhorRqi"
   },
   "source": [
    "# 19. [Tuple + Conditionals] Assign Seat Category Based on Age"
   ]
  },
  {
   "cell_type": "code",
   "execution_count": null,
   "metadata": {
    "id": "tXu951rgrWHJ"
   },
   "outputs": [],
   "source": [
    "people = [(\"Amit\", 15), (\"Sita\", 28), (\"Kaka\", 70)]\n",
    "\n",
    "for name, age in people:\n",
    "    if age < 18:\n",
    "        category = \"Child\"\n",
    "    elif age < 60:\n",
    "        category = \"Adult\"\n",
    "    else:\n",
    "        category = \"Senior\"\n",
    "    print(f\"{name} is categorized as {category}\")\n"
   ]
  },
  {
   "cell_type": "markdown",
   "metadata": {
    "id": "C7UcsC9lrYIU"
   },
   "source": [
    "# 20. [With Function + Set + Conditional] Check Email Duplication in Signup System"
   ]
  },
  {
   "cell_type": "code",
   "execution_count": null,
   "metadata": {
    "colab": {
     "base_uri": "https://localhost:8080/"
    },
    "id": "GEYSlT5Erb_1",
    "outputId": "d9dff78a-81a9-42c9-fea1-b1d1a0991cc1"
   },
   "outputs": [
    {
     "name": "stdout",
     "output_type": "stream",
     "text": [
      "Enter email to register: abc@gmail.com\n",
      "Registered successfully.\n"
     ]
    }
   ],
   "source": [
    "def check_email(new_email, registered_emails):\n",
    "    if new_email.lower() in registered_emails:\n",
    "        print(\"Email already registered.\")\n",
    "    else:\n",
    "        registered_emails.add(new_email.lower())\n",
    "        print(\"Registered successfully.\")\n",
    "\n",
    "emails = {\"test@gmail.com\", \"hello@outlook.com\"}\n",
    "\n",
    "email_input = input(\"Enter email to register: \")\n",
    "check_email(email_input, emails)\n"
   ]
  },
  {
   "cell_type": "markdown",
   "metadata": {
    "id": "bhB2T2bzriPj"
   },
   "source": [
    "# 21. Print All Unique Items Purchased by Customers\n",
    "Each customer has a list of purchased items. Find all unique items."
   ]
  },
  {
   "cell_type": "code",
   "execution_count": null,
   "metadata": {
    "colab": {
     "base_uri": "https://localhost:8080/"
    },
    "id": "FifV1xOerjnR",
    "outputId": "2181238c-5bee-4e8f-91ee-215f7e798879"
   },
   "outputs": [
    {
     "name": "stdout",
     "output_type": "stream",
     "text": [
      "Unique items: {'bread', 'butter', 'milk', 'eggs'}\n"
     ]
    }
   ],
   "source": [
    "data = {\n",
    "    \"John\": [\"milk\", \"bread\"],\n",
    "    \"Anu\": [\"bread\", \"eggs\"],\n",
    "    \"Ali\": [\"milk\", \"butter\"]\n",
    "}\n",
    "\n",
    "all_items = set()\n",
    "for items in data.values():\n",
    "    all_items.update(items)\n",
    "\n",
    "print(\"Unique items:\", all_items)\n"
   ]
  },
  {
   "cell_type": "markdown",
   "metadata": {
    "id": "G5sIvLpRrlun"
   },
   "source": [
    "# 22. Validate Voter Age From List of Tuples\n",
    "Each tuple has name and age. Print names of eligible voters (>=18)."
   ]
  },
  {
   "cell_type": "code",
   "execution_count": null,
   "metadata": {
    "id": "D9LnS-0yrpA5"
   },
   "outputs": [],
   "source": [
    "people = [(\"Raj\", 17), (\"Simran\", 22), (\"Ali\", 19)]\n",
    "for name, age in people:\n",
    "    if age >= 18:\n",
    "        print(name, \"is eligible to vote.\")\n"
   ]
  },
  {
   "cell_type": "markdown",
   "metadata": {
    "id": "hK-u2FBjrx56"
   },
   "source": [
    "# 23. Common Skills Between Candidates Using Set\n",
    "Find and print common skills from two candidates’ skill sets."
   ]
  },
  {
   "cell_type": "code",
   "execution_count": null,
   "metadata": {
    "id": "H9Ku24WQryre"
   },
   "outputs": [],
   "source": [
    "a = {\"Python\", \"SQL\", \"Git\"}\n",
    "b = {\"Java\", \"Python\", \"Git\"}\n",
    "print(\"Common skills:\", a & b)\n"
   ]
  },
  {
   "cell_type": "markdown",
   "metadata": {
    "id": "x7udZ5nnr-nB"
   },
   "source": [
    "# 24. Course Registration Limit Checker\n",
    "Given student-course mapping, identify students registered in more than 2 courses."
   ]
  },
  {
   "cell_type": "code",
   "execution_count": null,
   "metadata": {
    "id": "4FF__Y4fr_hc"
   },
   "outputs": [],
   "source": [
    "def over_registered_students(registrations):\n",
    "    result = {}\n",
    "    for student, courses in registrations.items():\n",
    "        if len(courses) > 2:\n",
    "            result[student] = courses\n",
    "    return result\n",
    "\n",
    "data = {\"Alice\": [\"Math\", \"Python\", \"AI\"], \"Bob\": [\"Math\"], \"Eve\": [\"Python\", \"AI\"]}\n",
    "print(over_registered_students(data))\n",
    "# Output: {'Alice': ['Math', 'Python', 'AI']}\n"
   ]
  },
  {
   "cell_type": "markdown",
   "metadata": {
    "id": "vi_QPMN1sEYU"
   },
   "source": [
    "# 25. Merge Two Inventory Dictionaries\n",
    "Add values of items if they appear in both inventories."
   ]
  },
  {
   "cell_type": "code",
   "execution_count": null,
   "metadata": {
    "id": "YsW-QkfUsFUd"
   },
   "outputs": [],
   "source": [
    "def merge_inventories(inv1, inv2):\n",
    "    merged = inv1.copy()\n",
    "    for item, count in inv2.items():\n",
    "        merged[item] = merged.get(item, 0) + count\n",
    "    return merged\n",
    "\n",
    "a = {\"pen\": 10, \"notebook\": 5}\n",
    "b = {\"pen\": 5, \"eraser\": 2}\n",
    "print(merge_inventories(a, b))\n",
    "# Output: {'pen': 15, 'notebook': 5, 'eraser': 2}\n"
   ]
  },
  {
   "cell_type": "markdown",
   "metadata": {
    "id": "BNekXVGasRJ9"
   },
   "source": [
    "# 26. Group Words by First Letter Using Dictionary\n",
    "Q: Group a list of words by their starting letter."
   ]
  },
  {
   "cell_type": "code",
   "execution_count": null,
   "metadata": {
    "id": "PxeE6LhBsSKR"
   },
   "outputs": [],
   "source": [
    "def group_by_first_letter(words):\n",
    "    result = {}\n",
    "    for word in words:\n",
    "        key = word[0].lower()\n",
    "        result.setdefault(key, []).append(word)\n",
    "    return result\n",
    "\n",
    "print(group_by_first_letter([\"apple\", \"banana\", \"avocado\", \"blueberry\"]))\n",
    "# Output: {'a': ['apple', 'avocado'], 'b': ['banana', 'blueberry']}\n"
   ]
  },
  {
   "cell_type": "markdown",
   "metadata": {
    "id": "WcjgQ-mdsXJ0"
   },
   "source": [
    "# 27. Frequency of Elements in a Nested List\n",
    "Q: Count frequency of each element in a nested list using dictionary."
   ]
  },
  {
   "cell_type": "code",
   "execution_count": null,
   "metadata": {
    "id": "1gkMp1FbsYAW"
   },
   "outputs": [],
   "source": [
    "def nested_freq(nested_list):\n",
    "    flat_list = [item for sublist in nested_list for item in sublist]\n",
    "    freq = {}\n",
    "    for item in flat_list:\n",
    "        freq[item] = freq.get(item, 0) + 1\n",
    "    return freq\n",
    "\n",
    "print(nested_freq([[1, 2], [2, 3], [1, 4]]))\n",
    "# Output: {1: 2, 2: 2, 3: 1, 4: 1}\n"
   ]
  },
  {
   "cell_type": "markdown",
   "metadata": {
    "id": "WcwDlM9MJ09N"
   },
   "source": [
    "# 28. Prototype of AI Assistant"
   ]
  },
  {
   "cell_type": "markdown",
   "metadata": {
    "id": "kEcnlyZHJ0fT"
   },
   "source": []
  },
  {
   "cell_type": "code",
   "execution_count": null,
   "metadata": {
    "colab": {
     "base_uri": "https://localhost:8080/"
    },
    "id": "I_AAaOu4spth",
    "outputId": "8701c094-175a-4a27-ef9e-65fb35a50e8a"
   },
   "outputs": [
    {
     "name": "stdout",
     "output_type": "stream",
     "text": [
      "You: hhhh\n",
      "Assistant: can't response.\n"
     ]
    }
   ],
   "source": [
    "intent = {\n",
    "    \"help\": \"How can I help you?\"\n",
    "    }\n",
    "user_input = input(\"You: \").lower()\n",
    "\n",
    "words = user_input.split()\n",
    "\n",
    "response = \"can't response.\"\n",
    "for word in words:\n",
    "    if word in intent:\n",
    "        response = intent[word]\n",
    "        break\n",
    "\n",
    "print(\"Assistant:\", response)"
   ]
  },
  {
   "cell_type": "code",
   "execution_count": null,
   "metadata": {
    "id": "aLUxX6-uwWS2"
   },
   "outputs": [],
   "source": []
  }
 ],
 "metadata": {
  "colab": {
   "provenance": []
  },
  "kernelspec": {
   "display_name": "Python 3 (ipykernel)",
   "language": "python",
   "name": "python3"
  },
  "language_info": {
   "codemirror_mode": {
    "name": "ipython",
    "version": 3
   },
   "file_extension": ".py",
   "mimetype": "text/x-python",
   "name": "python",
   "nbconvert_exporter": "python",
   "pygments_lexer": "ipython3",
   "version": "3.13.3"
  }
 },
 "nbformat": 4,
 "nbformat_minor": 4
}
